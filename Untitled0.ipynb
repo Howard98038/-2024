{
  "nbformat": 4,
  "nbformat_minor": 0,
  "metadata": {
    "colab": {
      "provenance": [],
      "authorship_tag": "ABX9TyNp4QWFCQbdO4xjAFpf9Myn",
      "include_colab_link": true
    },
    "kernelspec": {
      "name": "python3",
      "display_name": "Python 3"
    },
    "language_info": {
      "name": "python"
    }
  },
  "cells": [
    {
      "cell_type": "markdown",
      "metadata": {
        "id": "view-in-github",
        "colab_type": "text"
      },
      "source": [
        "<a href=\"https://colab.research.google.com/github/Howard98038/-2024/blob/main/Untitled0.ipynb\" target=\"_parent\"><img src=\"https://colab.research.google.com/assets/colab-badge.svg\" alt=\"Open In Colab\"/></a>"
      ]
    },
    {
      "cell_type": "code",
      "execution_count": null,
      "metadata": {
        "colab": {
          "base_uri": "https://localhost:8080/"
        },
        "id": "52kgKJIgzgiO",
        "outputId": "c88c8033-6175-4657-c8d0-a26f7fc031fd"
      },
      "outputs": [
        {
          "output_type": "stream",
          "name": "stdout",
          "text": [
            "           value forecast\n",
            "time                     \n",
            "24-Dec  24556033        F\n",
            "23-Dec  23355819        F\n",
            "22-Dec  22666522        P\n",
            "21-Dec  21738982        P\n",
            "20-Dec  19914806        R\n"
          ]
        }
      ],
      "source": [
        "import pandas as pd\n",
        "\n"
      ]
    },
    {
      "cell_type": "code",
      "source": [
        "url = \"https://raw.githubusercontent.com/fju155447/fin_data/main/2330.TW.csv\"\n",
        "df = pd.read_csv(url, index_col=0)\n",
        "print(df.head(5))"
      ],
      "metadata": {
        "colab": {
          "base_uri": "https://localhost:8080/"
        },
        "id": "sii7nv5a2-if",
        "outputId": "7dcd317e-b8a7-4b0c-d586-efae2e7fee64"
      },
      "execution_count": null,
      "outputs": [
        {
          "output_type": "stream",
          "name": "stdout",
          "text": [
            "             Open   High    Low  Close   Adj Close    Volume\n",
            "Date                                                        \n",
            "2020-01-02  332.5  339.0  332.5  339.0  308.986359  31754120\n",
            "2020-01-03  344.0  345.0  335.5  339.5  309.442047  41811268\n",
            "2020-01-06  333.0  334.5  332.0  332.0  302.606049  45343057\n",
            "2020-01-07  332.5  333.0  326.5  329.5  300.327393  50879181\n",
            "2020-01-08  325.0  333.0  325.0  329.5  300.327393  37567748\n"
          ]
        }
      ]
    }
  ]
}